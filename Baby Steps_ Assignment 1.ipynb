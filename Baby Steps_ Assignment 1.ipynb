{
 "cells": [
  {
   "cell_type": "code",
   "execution_count": 2,
   "metadata": {},
   "outputs": [
    {
     "name": "stdout",
     "output_type": "stream",
     "text": [
      "Welcome to Assignment-1\n"
     ]
    }
   ],
   "source": [
    "print(\"Welcome to Assignment-1\")"
   ]
  },
  {
   "cell_type": "code",
   "execution_count": 3,
   "metadata": {},
   "outputs": [
    {
     "name": "stdout",
     "output_type": "stream",
     "text": [
      "Num1=10\n",
      "Num2=30\n",
      "Add=40\n"
     ]
    }
   ],
   "source": [
    "print(\"Num1=10\")\n",
    "print(\"Num2=30\")\n",
    "print(\"Add=40\")\n"
   ]
  },
  {
   "cell_type": "code",
   "execution_count": 17,
   "metadata": {},
   "outputs": [
    {
     "name": "stdout",
     "output_type": "stream",
     "text": [
      "Enter your weight:88\n",
      "Enter your height:1.60\n",
      "Enter the BMI Index: 34.37499999999999\n",
      "Very OverWeight\n"
     ]
    }
   ],
   "source": [
    "weight=float(input(\"Enter your weight:\"))\n",
    "height=float(input(\"Enter your height:\"))\n",
    "BMI=weight/height**2\n",
    "print(\"Enter the BMI Index:\",BMI)\n",
    "if(BMI<18.5):\n",
    "    print(\"Under Weight\")\n",
    "elif(18.5<=BMI<25):\n",
    "    print(\"Normal Weight\")  \n",
    "elif(25<=BMI<30):\n",
    "    print(\"Over Weight\")    \n",
    "else:\n",
    "    print(\"Very OverWeight\")   "
   ]
  },
  {
   "cell_type": "code",
   "execution_count": null,
   "metadata": {},
   "outputs": [],
   "source": []
  }
 ],
 "metadata": {
  "kernelspec": {
   "display_name": "Python 3",
   "language": "python",
   "name": "python3"
  },
  "language_info": {
   "codemirror_mode": {
    "name": "ipython",
    "version": 3
   },
   "file_extension": ".py",
   "mimetype": "text/x-python",
   "name": "python",
   "nbconvert_exporter": "python",
   "pygments_lexer": "ipython3",
   "version": "3.7.4"
  }
 },
 "nbformat": 4,
 "nbformat_minor": 2
}
